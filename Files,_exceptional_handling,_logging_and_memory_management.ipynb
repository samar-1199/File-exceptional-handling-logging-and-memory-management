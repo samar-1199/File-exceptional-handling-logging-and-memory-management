{
  "nbformat": 4,
  "nbformat_minor": 0,
  "metadata": {
    "colab": {
      "provenance": []
    },
    "kernelspec": {
      "name": "python3",
      "display_name": "Python 3"
    },
    "language_info": {
      "name": "python"
    }
  },
  "cells": [
    {
      "cell_type": "markdown",
      "source": [
        "**Q1**. What is the difference between interpreted and compiled languages?\n",
        "\n",
        "-  INTERPRETED LANGUAGE\n",
        "\n",
        "An interpreted language is a programming language that is generally interpreted, without compiling a program into machine instructions. It is one where the instructions are not directly executed by the target machine, but instead, read and executed by some other program. Interpreted language ranges – JavaScript, Perl, Python, BASIC, etc.\n",
        "\n",
        "- COMPILED LANGUAGE\n",
        "  \n",
        "  A compiled language is a programming language that is generally compiled and not interpreted. It is one where the program, once compiled, is expressed in the instructions of the target machine; this machine code is undecipherable by humans. Types of compiled language – C, C++, C#, CLEO, COBOL, etc.\n",
        "\n"
      ],
      "metadata": {
        "id": "1kdltUa9M7b6"
      }
    },
    {
      "cell_type": "markdown",
      "source": [
        "**Q2**. What is exception handling in Python?\n",
        "\n",
        "Python Exception Handling handles errors that occur during the execution of a program. Exception handling allows to respond to the error, instead of crashing the running program. It enables you to catch and manage errors, making your code more robust and user-friendly.\n",
        "\n",
        "\n",
        "**Q3**.What is the purpose of the finally block in exception handling?\n",
        "\n",
        "finally Block: finally block always runs, regardless of whether an exception occurred or not. It is typically used for cleanup operations (closing files, releasing resources).\n",
        "\n",
        "\n",
        "**Q4**. What is logging in Python?\n",
        "\n",
        "Logging is a means of tracking events that happen when some software runs. Logging is important for software developing, debugging, and running. If you don’t have any logging record and your program crashes, there are very few chances that you detect the cause of the problem. And if you detect the cause, it will consume a lot of time. With logging, you can leave a trail of breadcrumbs so that if something goes wrong, we can determine the cause of the problem.\n",
        "\n",
        "There are a number of situations like if you are expecting an integer, you have been given a float and you can a cloud API, the service is down for maintenance, and much more. Such problems are out of control and are hard to determine.\n",
        "\n"
      ],
      "metadata": {
        "id": "e4VMfFukO3OO"
      }
    },
    {
      "cell_type": "markdown",
      "source": [
        "**Q5**.What is the significance of the __del__ method in Python?\n",
        "\n",
        "In Python, object-oriented programming provides several special methods that start and end with double underscores, known as \"magic methods\" or \"dunder methods.\" These methods enable you to customize the behavior of your classes in specific ways. One such method is __del__, which is also known as the destructor method. This article explores what the __del__ method is, how to use it effectively, and provides three practical examples of its usage.\n",
        "\n",
        "**Q6**.What is the difference between import and from ... import in Python?\n",
        "\n",
        "- Import module: This statement imports the whole module, making all its functions, classes, and variables available in your code's namespace. To use any functions, classes, or variables defined in the module, you need to prefix them with the module name followed by a dot (\".\") character.\n",
        "\n",
        "- From module import function: This statement imports only the specified function (or class, or variable) from the module, making it directly available in your code's namespace. You don't need to prefix the function name with the module name when you use it in your codeRead\n",
        "\n",
        "**Q7.** How can you handle multiple exceptions in Python?\n",
        "\n",
        "Given a piece of code that can throw any of several different exceptions, and one needs to account for all of the potential exceptions that could be raised without creating duplicate code or long, meandering code passages.\n",
        "\n",
        "Python Exception Handling handles errors that occur during the execution of a program. Exception handling allows to respond to the error, instead of crashing the running program. It enables you to catch and manage errors, making your code more robust and user-friendly.\n",
        "\n",
        "**Q8.**Write a program to handle a file opening error using exception handling.\n",
        "\n",
        "File handling refers to the process of performing operations on a file such as creating, opening, reading, writing and closing it, through a programming interface. It involves managing the data flow between the program and the file system on the storage device, ensuring that data is handled safely and efficiently.\n"
      ],
      "metadata": {
        "id": "ZG3UY1Q_RRNE"
      }
    },
    {
      "cell_type": "markdown",
      "source": [
        "**Q9**.What is the difference between multithreading and multiprocessing?\n",
        "\n",
        "- Multithreading\n",
        " is a feature in operating systems that allows a program to do several tasks at the same time. Think of it like having multiple hands working together to complete different parts of a job faster. Each “hand” is called a thread, and they help make programs run more efficiently. Multithreading makes your computer work better by using its resources more effectively, leading to quicker and smoother performance for applications like web browsers, games, and many other programs you use every day.\n",
        "\n",
        "- Multitasking\n",
        "is the ability of an operating system to run multiple programs or tasks at the same time. It allows you to perform different activities simultaneously on your computer. For example, you can listen to music while browsing the internet and typing a document all at once.\n",
        "\n",
        "Multitasking is of two types: Processor-based and thread-based. Processor-based multitasking is managed by the OS, however, multitasking through multithreading can be controlled by the programmer."
      ],
      "metadata": {
        "id": "ud-d_gOrIMyI"
      }
    },
    {
      "cell_type": "markdown",
      "source": [
        " **Q10** What are the advantages of using logging in a program?\n",
        "\n",
        " Debugging - Helps identify and diagnose issues by capturing relevant information during program execution.\n",
        "\n",
        "Monitoring - Provides insights into the application's behavior and performance.\n",
        "\n",
        "Auditing -Keeps a record of important events and actions for security purposes.\n",
        "\n",
        "Troubleshooting - Facilitates tracking of program flow and variable values to understand unexpected behavior."
      ],
      "metadata": {
        "id": "ixv93K5fKo9W"
      }
    },
    {
      "cell_type": "markdown",
      "source": [
        "**Q11.**What is memory management in Python?\n",
        "\n",
        "Memory allocation is important to any software developer as writing efficient code means writing a memory-efficient code. Memory allocation can be defined as allocating a block of space in the computer memory to a program. In Python memory allocation and deallocation method is automatic as the Python developers created a garbage collector for Python so that the user does not have to do manual garbage collection.\n",
        "\n",
        "**Q12**.What are the basic steps involved in exception handling in Python?\n",
        "\n",
        "(a) Start: The program execution begins here.\n",
        "\n",
        "(b) Try Block: Code that might raise an exception is enclosed within the “try” block.\n",
        "\n",
        "(c) Exception Occurrence: If an exception occurs within the try block, it moves to the corresponding except block.\n",
        "\n",
        "(d) Except Block: This block catches the exception that occurred and executes the specific code to handle it.\n",
        "\n",
        "(e) Handle Exception: Within the except block, actions like logging the error, displaying a message, or performing alternative actions take place.\n",
        "\n",
        "(f) Continue Execution: After handling the exception, the program can continue execution or terminate based on the handling method.\n",
        "\n",
        "(g) End: The program finishes its execution.\n",
        "\n"
      ],
      "metadata": {
        "id": "X7ipKp8lQPI_"
      }
    },
    {
      "cell_type": "markdown",
      "source": [
        "**Q13**.Why is memory management important in Python?\n",
        "\n",
        "- Efficient Use of Resources: Python programs often run on systems with limited memory. Efficient memory management ensures that the program uses memory resources optimally, avoiding slowdowns or crashes due to memory exhaustion.\n",
        "\n",
        "- Garbage Collection: Python uses automatic garbage collection to manage memory. Understanding how it works helps avoid memory leaks and ensures that memory used by objects no longer needed is freed up.\n",
        "\n",
        "- Performance: Poor memory management can lead to performance degradation, especially when large datasets or objects are involved. Proper management ensures that memory is allocated and deallocated when necessary, keeping the program running efficiently.\n",
        "\n",
        "- Avoiding Memory Leaks: Memory leaks occur when objects are not properly released from memory, which can lead to the application consuming more and more memory over time. In Python, the garbage collector helps, but it’s still important to be mindful of references to objects.\n",
        "\n",
        "- Scalability: If a Python application needs to handle larger workloads, efficient memory management ensures that it can scale without running into issues like excessive memory consumption, which could affect performance or cause crashes."
      ],
      "metadata": {
        "id": "DGSrB5nIVe2B"
      }
    },
    {
      "cell_type": "markdown",
      "source": [
        "**Q14**. What is the role of try and except in exception handling?\n",
        "\n",
        " - Try block:\n",
        "The code that might raise an exception (error) is placed inside the try block.\n",
        "If no exception occurs, the program continues executing normally.\n",
        "If an exception is raised inside the try block, Python stops executing that block and looks for a corresponding except block to handle the exception.\n",
        "\n",
        "- Except block:\n",
        "The except block is where you handle the exception raised in the try block.\n",
        "You can specify the type of exception you want to catch (e.g., ValueError, ZeroDivisionError), and Python will handle that particular error type according.\n",
        "\n",
        "**Q15**. How does Python's garbage collection system work?\n",
        "\n",
        "Python’s garbage collection system automatically handles memory management by tracking and managing objects in memory, ensuring that unused objects are deleted when no longer needed. This helps to avoid memory leaks and ensures that your program doesn't consume unnecessary memory resources.\n",
        "\n",
        "**Q16**.What is the purpose of the else block in exception handling?\n",
        "\n",
        "In Python's exception handling, the else block is used in conjunction with the try and except blocks, and its purpose is to define code that should run only if no exceptions are raised in the try block. This provides a way to separate the normal logic from error handling.\n",
        "\n",
        "Purpose of the else block:\n",
        "The code in the else block is executed only when the try block completes without any exceptions.\n",
        "It allows you to write code that should be executed after the try block if everything goes smoothly, and before any finally block (if present).\n",
        "It can be useful when you want to execute some cleanup or follow-up actions that should only occur when the code runs without errors.\n",
        "\n"
      ],
      "metadata": {
        "id": "uxt6eub5WMxc"
      }
    },
    {
      "cell_type": "markdown",
      "source": [
        "**Q17**.What are the common logging levels in Python?\n",
        "\n",
        "DEBUG:\n",
        "\n",
        "Purpose: Used for detailed, diagnostic information. This is the most verbose level and is typically used for debugging during development.\n",
        "Use case: Helps in understanding the flow of the program and inspecting variables.\n",
        "Example: logging.debug('This is a debug message')\n",
        "\n",
        "INFO:\n",
        "Purpose: Used for general, informative messages that indicate normal program operation.\n",
        "Use case: Provides useful information for tracking the general progress of the program without overwhelming the logs.\n",
        "Example: logging.info('Starting process')\n",
        "\n",
        " WARNING:\n",
        "Purpose: Used for situations where something unexpected occurred, but the program is still running fine. It’s a way to indicate a potential issue.\n",
        "Use case: Alerts you to situations that may need attention but aren’t critical to the operation.\n",
        "Example: logging.warning('Low disk space warning')\n",
        "\n",
        " ERROR:\n",
        "Purpose: Indicates a more serious problem where the program encountered an issue that prevented it from performing a function as expected. The program can usually continue running, but something went wrong.\n",
        "Use case: Use for situations where something has gone wrong, but you can recover from it.\n",
        "Example: logging.error('File not found')\n",
        "\n",
        " CRITICAL:\n",
        "Purpose: Represents the most severe log level, indicating a critical failure that will likely stop the program from running or require immediate intervention.\n",
        "Use case: Used for situations that require immediate attention and often indicate that the program might crash or is in an unstable state.\n",
        "Example: logging.critical('System failure: Cannot continue')"
      ],
      "metadata": {
        "id": "z_34JaytZuVl"
      }
    },
    {
      "cell_type": "markdown",
      "source": [
        "**Q18**.What is the difference between os.fork() and multiprocessing in Python\n",
        "\n",
        "This fork method works on creating the exact clone or copy of the parent process. i.e resources utilised or altered by the parent process will be accessed by the child.\n",
        "\n"
      ],
      "metadata": {
        "id": "ryk7Z_0VbKxJ"
      }
    },
    {
      "cell_type": "markdown",
      "source": [
        "**Q19**.What is the importance of closing a file in Python?\n",
        "\n",
        "In Python, a file object (often denoted as fp) is a representation of an open file. When working with files, it is essential to close the file properly to release system resources and ensure data integrity. Closing a file is crucial to avoid potential issues like data corruption and resource leaks."
      ],
      "metadata": {
        "id": "M0NR1XCHN0oA"
      }
    },
    {
      "cell_type": "markdown",
      "source": [
        "**Q20**. What is the difference between file.read() and file.readline() in Python?\n",
        "\n",
        "1. read()\n",
        "\n",
        "Functionality:\n",
        "Reads the entire content of a file as a single string.\n",
        "\n",
        "Use Case:\n",
        "Use it when you want to read the whole file at once.\n",
        "\n",
        "Example:\n",
        "with open('example.txt', 'r') as file: content = file.read() print(content)\n",
        "\n",
        "Note:\n",
        "Be cautious when working with large files, as it loads the entire file into memory.\n",
        "\n",
        "2. readline()\n",
        "\n",
        "Functionality: Reads the next line from the file (up to and including the newline character).\n",
        "\n",
        "Use Case: Use it when you want to read a file line by line interactively.\n",
        "\n",
        "\n",
        "Example: with open('example.txt', 'r') as file: line = file.readline() while line: print(line, end='') # Print each line without adding extra newline line = file.readline()\n",
        "\n",
        "Note: If the file ends, readline() returns an empty string ('').\n"
      ],
      "metadata": {
        "id": "gNQWOIxmOVIN"
      }
    },
    {
      "cell_type": "markdown",
      "source": [
        "**Q21**. What is the logging module in Python used for?\n",
        "\n",
        " Logging module which allows writing status messages to a file or any other output streams. The file can contain information on which part of the code is executed and what problems have arisen.  "
      ],
      "metadata": {
        "id": "Krl36DzgQMT9"
      }
    },
    {
      "cell_type": "markdown",
      "source": [
        "**Q22**.What is the os module in Python used for in file handling?\n",
        "\n",
        "The OS module in Python provides functions for interacting with the operating system. OS comes under Python’s standard utility modules. This module provides a portable way of using operating system-dependent functionality.\n",
        "\n",
        "The *os* and *os.path* modules include many functions to interact with the file system."
      ],
      "metadata": {
        "id": "zudfvxZyRwqC"
      }
    },
    {
      "cell_type": "markdown",
      "source": [
        "**Q23**.What are the challenges associated with memory management in Python?\n",
        "\n",
        "Automatic Memory Management: Python uses a garbage collector (GC) to manage memory, which can lead to challenges in terms of timing and efficiency. While the garbage collector automatically frees up unused objects, it may not always reclaim memory immediately or correctly, leading to memory leaks if cyclic references are not handled properly.\n",
        "\n",
        "Variable Size: Python is dynamically typed, which means variables can change types during runtime. This flexibility can increase the memory overhead because Python needs to maintain additional information (such as type and metadata) for each object. For example, an integer in Python occupies more memory than a simple integer in lower-level languages like C."
      ],
      "metadata": {
        "id": "7R8G2374SCjO"
      }
    },
    {
      "cell_type": "markdown",
      "source": [
        "**Q24**.  How do you raise an exception manually in Python?\n",
        "\n",
        "o raise an exception manually in Python, you use the raise keyword followed by the exception class you want to raise. Optionally, you can provide a custom error message or additional information by passing an argument to the exception.\n",
        "\n",
        "raise Exception(\"This is an error message\")\n"
      ],
      "metadata": {
        "id": "M_wFKLtOTiNQ"
      }
    },
    {
      "cell_type": "markdown",
      "source": [
        "**Q25**.Why is it important to use multithreading in certain applications?\n",
        "\n",
        "Parallel Execution: In applications that can be divided into independent tasks, multithreading enables multiple threads to run in parallel, especially on multi-core processors. This leads to better CPU utilization and faster execution of tasks, particularly for CPU-bound tasks (like calculations, data processing, etc.).\n",
        "\n",
        "Faster Execution of Independent Tasks: For example, in data-intensive applications (such as image or video processing), you can split the data into chunks and process them in parallel using multiple threads, speeding up the overall task."
      ],
      "metadata": {
        "id": "tUq_jn5CT4Hg"
      }
    },
    {
      "cell_type": "markdown",
      "source": [
        "#PRACTICAL QUESTIONS"
      ],
      "metadata": {
        "id": "UMjbCqQ5VTUp"
      }
    },
    {
      "cell_type": "markdown",
      "source": [
        "**Q1**.How can you open a file for writing in Python and write a string to it?"
      ],
      "metadata": {
        "id": "8IE29dGiVY0B"
      }
    },
    {
      "cell_type": "code",
      "source": [
        "# Open the file in write mode ('w')\n",
        "with open('example.txt', 'w') as file:\n",
        "    # Write a string to the file\n",
        "    file.write(\"Hello, this is a test string!\")\n"
      ],
      "metadata": {
        "id": "9tb80vn0WoMo"
      },
      "execution_count": null,
      "outputs": []
    },
    {
      "cell_type": "markdown",
      "source": [
        "**Q2.**Write a Python program to read the contents of a file and print each line.\n",
        "\n",
        "\n",
        "\n"
      ],
      "metadata": {
        "id": "mWSmObhlb_KB"
      }
    },
    {
      "cell_type": "code",
      "source": [
        "# Open the file in read mode ('r')\n",
        "with open('example.txt', 'r') as file:\n",
        "    # Iterate through each line in the file\n",
        "    for line in file:\n",
        "        # Print the current line\n",
        "        print(line, end='')  # 'end' prevents adding an extra newline\n"
      ],
      "metadata": {
        "id": "xMLxYi_bcs_E"
      },
      "execution_count": null,
      "outputs": []
    },
    {
      "cell_type": "markdown",
      "source": [
        "**Q3**. How would you handle a case where the file doesn't exist while trying to open it for reading"
      ],
      "metadata": {
        "id": "_l1uH2NPc9Mv"
      }
    },
    {
      "cell_type": "code",
      "source": [
        "try:\n",
        "    # Try to open the file in read mode\n",
        "    with open('example.txt', 'r') as file:\n",
        "        # Read and print the contents of the file\n",
        "        for line in file:\n",
        "            print(line, end='')  # 'end' prevents adding an extra newline\n",
        "except FileNotFoundError:\n",
        "    # Handle the case where the file doesn't exist\n",
        "    print(\"Error: The file does not exist.\")\n"
      ],
      "metadata": {
        "id": "xei97ZJ3dQa5"
      },
      "execution_count": null,
      "outputs": []
    },
    {
      "cell_type": "markdown",
      "source": [
        "**Q4**.Write a Python script that reads from one file and writes its content to another file."
      ],
      "metadata": {
        "id": "os9cmFW4dbWC"
      }
    },
    {
      "cell_type": "code",
      "source": [
        "try:\n",
        "    # Open the source file in read mode ('r')\n",
        "    with open('source_file.txt', 'r') as source_file:\n",
        "        # Open the destination file in write mode ('w')\n",
        "        with open('destination_file.txt', 'w') as dest_file:\n",
        "            # Read from source and write to destination\n",
        "            content = source_file.read()\n",
        "            dest_file.write(content)\n",
        "    print(\"Content successfully copied from source_file.txt to destination_file.txt.\")\n",
        "\n",
        "except FileNotFoundError:\n",
        "    print(\"Error: One of the files does not exist.\")\n",
        "except Exception as e:\n",
        "    print(f\"An unexpected error occurred: {e}\")\n"
      ],
      "metadata": {
        "id": "V1hwFrCkdh7Z"
      },
      "execution_count": null,
      "outputs": []
    },
    {
      "cell_type": "markdown",
      "source": [
        "**Q5**.How would you catch and handle division by zero error in Python"
      ],
      "metadata": {
        "id": "3E8qJLUddzI5"
      }
    },
    {
      "cell_type": "code",
      "source": [
        "try:\n",
        "    # Try to divide two numbers\n",
        "    numerator = 10\n",
        "    denominator = 0\n",
        "    result = numerator / denominator\n",
        "    print(f\"Result: {result}\")\n",
        "except ZeroDivisionError:\n",
        "    # Handle the division by zero error\n",
        "    print(\"Error: Division by zero is not allowed.\")\n"
      ],
      "metadata": {
        "id": "LzGjxMOTeAot"
      },
      "execution_count": null,
      "outputs": []
    },
    {
      "cell_type": "markdown",
      "source": [
        "**Q6**.Write a Python program that logs an error message to a log file when a division by zero exception occurs"
      ],
      "metadata": {
        "id": "F_lhlHBneEeV"
      }
    },
    {
      "cell_type": "code",
      "source": [
        "import logging\n",
        "\n",
        "# Configure the logging system to write to a log file\n",
        "logging.basicConfig(\n",
        "    filename='app.log',       # Log file where the messages will be saved\n",
        "    level=logging.ERROR,      # Only log messages of ERROR level or higher\n",
        "    format='%(asctime)s - %(levelname)s - %(message)s'  # Log format with timestamp\n",
        ")\n",
        "\n",
        "try:\n",
        "    # Try to perform a division\n",
        "    numerator = 10\n",
        "    denominator = 0\n",
        "    result = numerator / denominator\n",
        "    print(f\"Result: {result}\")\n",
        "except ZeroDivisionError as e:\n",
        "    # Log the error message to the log file\n",
        "    logging.error(f\"Division by zero error: {e}\")\n",
        "    print(\"Error: Division by zero is not allowed.\")\n"
      ],
      "metadata": {
        "id": "cTYCitsBeLxM"
      },
      "execution_count": null,
      "outputs": []
    },
    {
      "cell_type": "markdown",
      "source": [
        "**Q7**. How do you log information at different levels (INFO, ERROR, WARNING) in Python using the logging module"
      ],
      "metadata": {
        "id": "Y74muT4SfnkJ"
      }
    },
    {
      "cell_type": "code",
      "source": [
        "import logging\n",
        "logging.basicConfig(filename = \"test_new1.log\", level = logging.DEBUG, format = '%(asctime)s %(levelname)s %(message)s')\n",
        "\n",
        "logging.debug(\"This msg is for debugging\")\n",
        "logging.info(\"This is my info msg\")\n",
        "logging.warning(\"This is my warning msg\")\n",
        "logging.shutdown()"
      ],
      "metadata": {
        "id": "Vp604HMGftll"
      },
      "execution_count": null,
      "outputs": []
    },
    {
      "cell_type": "markdown",
      "source": [
        "**Q8**.Write a program to handle a file opening error using exception handling\n"
      ],
      "metadata": {
        "id": "Sc7VSMoig7e8"
      }
    },
    {
      "cell_type": "code",
      "source": [
        "try:\n",
        "    # Attempt to open a file in read mode\n",
        "    with open('non_existent_file.txt', 'r') as file:\n",
        "        content = file.read()\n",
        "        print(content)\n",
        "except FileNotFoundError:\n",
        "    # Handle case where the file doesn't exist\n",
        "    print(\"Error: The file you are trying to open does not exist.\")\n",
        "except PermissionError:\n",
        "    # Handle case where the file exists, but we don't have permission to open it\n",
        "    print(\"Error: You do not have permission to access this file.\")\n",
        "except Exception as e:\n",
        "    # Handle any other unexpected errors\n",
        "    print(f\"An unexpected error occurred: {e}\")\n"
      ],
      "metadata": {
        "id": "Nt7hQo4phO0e"
      },
      "execution_count": null,
      "outputs": []
    },
    {
      "cell_type": "markdown",
      "source": [
        "**Q9**. How can you read a file line by line and store its content in a list in Python"
      ],
      "metadata": {
        "id": "BoGQhw7niIf-"
      }
    },
    {
      "cell_type": "code",
      "source": [
        "# Open the file in read mode\n",
        "with open('filename.txt', 'r') as file:\n",
        "    # Read each line in the file\n",
        "    for line in file:\n",
        "        # Print each line\n",
        "        print(line.strip())"
      ],
      "metadata": {
        "id": "tKtzDJ86iPgo"
      },
      "execution_count": null,
      "outputs": []
    },
    {
      "cell_type": "markdown",
      "source": [
        "**Q10**. How can you append data to an existing file in Python"
      ],
      "metadata": {
        "id": "h1XAKvMmifBK"
      }
    },
    {
      "cell_type": "code",
      "source": [
        "# Open the file in append mode ('a')\n",
        "with open('example.txt', 'a') as file:\n",
        "    # Append a string to the file\n",
        "    file.write(\"\\nThis is an additional line of text.\")\n",
        "    file.write(\"\\nAnother line added.\")\n",
        "\n",
        "print(\"Data has been appended to the file.\")\n"
      ],
      "metadata": {
        "id": "8lDbMF2Xiuhb"
      },
      "execution_count": null,
      "outputs": []
    },
    {
      "cell_type": "markdown",
      "source": [
        "**Q11**.Write a Python program that uses a try-except block to handle an error when attempting to access a dictionary key that doesn't exist\n"
      ],
      "metadata": {
        "id": "aDAZcq_fjGj3"
      }
    },
    {
      "cell_type": "code",
      "source": [
        "# Define a sample dictionary\n",
        "my_dict = {'name': 'Alice', 'age': 30, 'city': 'New York'}\n",
        "\n",
        "try:\n",
        "    # Attempt to access a key that may or may not exist\n",
        "    key_to_access = 'address'\n",
        "    value = my_dict[key_to_access]\n",
        "    print(f\"Value for '{key_to_access}': {value}\")\n",
        "except KeyError:\n",
        "    # Handle the case where the key does not exist\n",
        "    print(f\"Error: The key '{key_to_access}' does not exist in the dictionary.\")\n"
      ],
      "metadata": {
        "id": "UwnVd80YjdhM"
      },
      "execution_count": null,
      "outputs": []
    },
    {
      "cell_type": "markdown",
      "source": [
        "**Q12**.Write a program that demonstrates using multiple except blocks to handle different types of exceptions"
      ],
      "metadata": {
        "id": "DhVec3gZkba_"
      }
    },
    {
      "cell_type": "code",
      "source": [
        "def perform_operations():\n",
        "    try:\n",
        "        # Try to perform multiple operations\n",
        "        print(\"1. Division operation\")\n",
        "        num = int(input(\"Enter a number: \"))\n",
        "        denom = int(input(\"Enter a denominator: \"))\n",
        "        result = num / denom\n",
        "        print(f\"Result of division: {result}\")\n",
        "\n",
        "        # Try opening a file\n",
        "        print(\"\\n2. File operation\")\n",
        "        file_name = input(\"Enter the name of the file to open: \")\n",
        "        with open(file_name, 'r') as file:\n",
        "            content = file.read()\n",
        "            print(f\"File content:\\n{content}\")\n",
        "\n",
        "    except ValueError:\n",
        "        # Handle invalid conversion to integer\n",
        "        print(\"Error: Please enter a valid integer.\")\n",
        "\n",
        "    except ZeroDivisionError:\n",
        "        # Handle division by zero\n",
        "        print(\"Error: You can't divide by zero.\")\n",
        "\n",
        "    except FileNotFoundError:\n",
        "        # Handle file not found error\n",
        "        print(\"Error: The specified file does not exist.\")\n",
        "\n",
        "    except Exception as e:\n",
        "        # Handle any other exceptions that were not specifically caught\n",
        "        print(f\"An unexpected error occurred: {e}\")\n",
        "\n",
        "# Run the function\n",
        "perform_operations()\n"
      ],
      "metadata": {
        "id": "d2ynaqD3kzQ8"
      },
      "execution_count": null,
      "outputs": []
    },
    {
      "cell_type": "markdown",
      "source": [
        "**Q13**.How would you check if a file exists before attempting to read it in Python"
      ],
      "metadata": {
        "id": "BPc11zh0k5hL"
      }
    },
    {
      "cell_type": "code",
      "source": [
        "\n",
        "\n",
        "# File path to check\n",
        "file_path = 'example.txt'\n",
        "\n",
        "# Check if the file exists\n",
        "if os.path.exists(file_path):\n",
        "    try:\n",
        "        # Attempt to open and read the file\n",
        "        with open(file_path, 'r') as file:\n",
        "            content = file.read()\n",
        "            print(\"File content:\")\n",
        "            print(content)\n",
        "    except Exception as e:\n",
        "        print(f\"An error occurred while reading the file: {e}\")\n",
        "else:\n",
        "    print(f\"The file '{file_path}' does not exist.\")\n"
      ],
      "metadata": {
        "id": "ujHc8t7clBUP"
      },
      "execution_count": null,
      "outputs": []
    },
    {
      "cell_type": "markdown",
      "source": [
        "**Q14**.Write a program that uses the logging module to log both informational and error messages"
      ],
      "metadata": {
        "id": "oqatjt3ulzoO"
      }
    },
    {
      "cell_type": "code",
      "source": [
        "import logging\n",
        "\n",
        "# Set up logging configuration\n",
        "logging.basicConfig(\n",
        "    filename='app.log',                # Log messages will be written to this file\n",
        "    level=logging.DEBUG,                # Capture all messages with level DEBUG and higher\n",
        "    format='%(asctime)s - %(levelname)s - %(message)s',  # Log format with timestamp, level, and message\n",
        ")\n",
        "\n",
        "# Log an informational message\n",
        "logging.info('This is an informational message.')\n",
        "\n",
        "# Simulate an error by dividing by zero\n",
        "try:\n",
        "    x = 10 / 0\n",
        "except ZeroDivisionError as e:\n",
        "    logging.error(f\"An error occurred: {e}\")\n",
        "\n",
        "# Another informational message\n",
        "logging.info('The program continues after logging the error.')\n",
        "\n",
        "# You can also log critical errors\n",
        "logging.critical('This is a critical message indicating a serious error.')\n",
        "\n"
      ],
      "metadata": {
        "id": "6rFkjgwGl7W-"
      },
      "execution_count": null,
      "outputs": []
    },
    {
      "cell_type": "markdown",
      "source": [
        "**Q15**.Write a Python program that prints the content of a file and handles the case when the file is empty"
      ],
      "metadata": {
        "id": "vA1PgcXFmgdf"
      }
    },
    {
      "cell_type": "code",
      "source": [
        "def print_file_content(file_path):\n",
        "    try:\n",
        "        # Open the file in read mode\n",
        "        with open(file_path, 'r') as file:\n",
        "            content = file.read()\n",
        "\n",
        "            # Check if the file is empty\n",
        "            if content:\n",
        "                print(\"File content:\")\n",
        "                print(content)\n",
        "            else:\n",
        "                print(\"The file is empty.\")\n",
        "\n",
        "    except FileNotFoundError:\n",
        "        print(f\"Error: The file '{file_path}' does not exist.\")\n",
        "    except Exception as e:\n",
        "        print(f\"An unexpected error occurred: {e}\")\n",
        "\n",
        "# Specify the file path\n",
        "file_path = 'example.txt'\n",
        "\n",
        "# Call the function to print the file content\n",
        "print_file_content(file_path)\n"
      ],
      "metadata": {
        "id": "vSouyePbnfzl"
      },
      "execution_count": null,
      "outputs": []
    },
    {
      "cell_type": "markdown",
      "source": [
        "**Q16**.Demonstrate how to use memory profiling to check the memory usage of a small program"
      ],
      "metadata": {
        "id": "VUkuvWE2n35F"
      }
    },
    {
      "cell_type": "code",
      "source": [
        "from memory_profiler import profile\n",
        "@profile\n",
        "\n",
        "def allocate_memory():\n",
        "    # Allocate a list with a range of numbers\n",
        "    a = [i for i in range(10000)]\n",
        "    # Allocate another list with squares of numbers\n",
        "    b = [i ** 2 for i in range(10000)]\n",
        "    return a, b\n",
        "\n",
        "if __name__ == \"__main__\":\n",
        "    allocate_memory()"
      ],
      "metadata": {
        "id": "5HGBJ90ioAZl"
      },
      "execution_count": null,
      "outputs": []
    },
    {
      "cell_type": "markdown",
      "source": [
        "**Q17**. Write a Python program to create and write a list of numbers to a file, one number per line."
      ],
      "metadata": {
        "id": "gd7I4At7gnjK"
      }
    },
    {
      "cell_type": "code",
      "source": [
        "def write_numbers_to_file(filename, numbers):\n",
        "    with open(filename, 'w') as file:\n",
        "        for number in numbers:\n",
        "            file.write(f\"{number}\\n\")\n",
        "\n",
        "def main():\n",
        "    numbers = [1, 2, 3, 4, 5, 6, 7, 8, 9, 10]  # Example list of numbers\n",
        "    filename = \"numbers.txt\"  # File to write to\n",
        "    write_numbers_to_file(filename, numbers)\n",
        "    print(f\"Numbers written to {filename}\")\n",
        "\n",
        "if __name__ == \"__main__\":\n",
        "    main()\n"
      ],
      "metadata": {
        "id": "wyJOHkKADH8Y"
      },
      "execution_count": null,
      "outputs": []
    },
    {
      "cell_type": "markdown",
      "source": [
        "**Q18**.How would you implement a basic logging setup that logs to a file with rotation after 1MB"
      ],
      "metadata": {
        "id": "wjgtRK3rDQ2Y"
      }
    },
    {
      "cell_type": "code",
      "source": [
        "import logging\n",
        "from logging.handlers import RotatingFileHandler\n",
        "\n",
        "# Set up the logger\n",
        "def setup_logger():\n",
        "    logger = logging.getLogger('my_logger')\n",
        "    logger.setLevel(logging.DEBUG)\n",
        "\n",
        "    # Create a rotating file handler that creates a new log file after it reaches 1MB\n",
        "    handler = RotatingFileHandler('app.log', maxBytes=1*1024*1024, backupCount=3)\n",
        "    handler.setLevel(logging.DEBUG)\n",
        "\n",
        "    # Create a log formatter\n",
        "    formatter = logging.Formatter('%(asctime)s - %(name)s - %(levelname)s - %(message)s')\n",
        "    handler.setFormatter(formatter)\n",
        "\n",
        "    # Add the handler to the logger\n",
        "    logger.addHandler(handler)\n",
        "\n",
        "    return logger\n",
        "\n",
        "def main():\n",
        "    logger = setup_logger()\n",
        "\n",
        "    # Test logging with various log levels\n",
        "    for i in range(10000):\n",
        "        logger.debug(f\"Debug message {i}\")\n",
        "        logger.info(f\"Info message {i}\")\n",
        "        logger.warning(f\"Warning message {i}\")\n",
        "        logger.error(f\"Error message {i}\")\n",
        "        logger.critical(f\"Critical message {i}\")\n",
        "\n",
        "if __name__ == \"__main__\":\n",
        "    main()\n"
      ],
      "metadata": {
        "id": "adpkjM6WDYJw"
      },
      "execution_count": null,
      "outputs": []
    },
    {
      "cell_type": "markdown",
      "source": [
        "**Q19**.Write a program that handles both IndexError and KeyError using a try-except block"
      ],
      "metadata": {
        "id": "X7URsWwJEBwH"
      }
    },
    {
      "cell_type": "code",
      "source": [
        "def handle_errors():\n",
        "    my_list = [1, 2, 3]\n",
        "    my_dict = {'a': 1, 'b': 2, 'c': 3}\n",
        "\n",
        "    try:\n",
        "        # Attempting to access an index that might not exist in the list\n",
        "        index_value = my_list[5]  # IndexError if out of range\n",
        "\n",
        "        # Attempting to access a key that might not exist in the dictionary\n",
        "        dict_value = my_dict['d']  # KeyError if the key is not found\n",
        "\n",
        "    except IndexError as e:\n",
        "        print(f\"IndexError occurred: {e}\")\n",
        "\n",
        "    except KeyError as e:\n",
        "        print(f\"KeyError occurred: {e}\")\n",
        "\n",
        "def main():\n",
        "    handle_errors()\n",
        "\n",
        "if __name__ == \"__main__\":\n",
        "    main()\n"
      ],
      "metadata": {
        "id": "T1Kiu6QEEHsU"
      },
      "execution_count": null,
      "outputs": []
    },
    {
      "cell_type": "markdown",
      "source": [
        "**Q20**. How would you open a file and read its contents using a context manager in Python"
      ],
      "metadata": {
        "id": "UmDEhwb3EQPY"
      }
    },
    {
      "cell_type": "code",
      "source": [
        "def read_file(filename):\n",
        "    with open(filename, 'r') as file:\n",
        "        # Read the entire content of the file\n",
        "        content = file.read()\n",
        "        print(content)\n",
        "\n",
        "def main():\n",
        "    filename = 'example.txt'  # Replace with your file path\n",
        "    read_file(filename)\n",
        "\n",
        "if __name__ == \"__main__\":\n",
        "    main()\n"
      ],
      "metadata": {
        "id": "ZiOcBu7PEpkB"
      },
      "execution_count": null,
      "outputs": []
    },
    {
      "cell_type": "markdown",
      "source": [
        "**Q21**. Write a Python program that reads a file and prints the number of occurrences of a specific word"
      ],
      "metadata": {
        "id": "YlrW6Mk4ErA4"
      }
    },
    {
      "cell_type": "code",
      "source": [
        "def count_word_occurrences(filename, target_word):\n",
        "    with open(filename, 'r') as file:\n",
        "        content = file.read()\n",
        "\n",
        "    # Count the occurrences of the target word\n",
        "    word_count = content.lower().split().count(target_word.lower())\n",
        "\n",
        "    return word_count\n",
        "\n",
        "def main():\n",
        "    filename = 'example.txt'  # Replace with your file path\n",
        "    target_word = 'python'    # Replace with the word you want to count\n",
        "\n",
        "    occurrences = count_word_occurrences(filename, target_word)\n",
        "    print(f\"The word '{target_word}' appears {occurrences} times in the file.\")\n",
        "\n",
        "if __name__ == \"__main__\":\n",
        "    main()\n"
      ],
      "metadata": {
        "id": "uvXRQcLyEwlA"
      },
      "execution_count": null,
      "outputs": []
    },
    {
      "cell_type": "markdown",
      "source": [
        "**Q22**.How can you check if a file is empty before attempting to read its contents"
      ],
      "metadata": {
        "id": "KJ85GUo8E555"
      }
    },
    {
      "cell_type": "code",
      "source": [
        "import os\n",
        "\n",
        "def is_file_empty(filename):\n",
        "    return os.stat(filename).st_size == 0\n",
        "\n",
        "def main():\n",
        "    filename = 'example.txt'  # Replace with your file path\n",
        "\n",
        "    if is_file_empty(filename):\n",
        "        print(f\"The file '{filename}' is empty.\")\n",
        "    else:\n",
        "        with open(filename, 'r') as file:\n",
        "            content = file.read()\n",
        "            print(\"File content:\")\n",
        "            print(content)\n",
        "\n",
        "if __name__ == \"__main__\":\n",
        "    main()\n"
      ],
      "metadata": {
        "id": "cKGXBHonFEED"
      },
      "execution_count": null,
      "outputs": []
    },
    {
      "cell_type": "markdown",
      "source": [
        "**Q23**. Write a Python program that writes to a log file when an error occurs during file handling."
      ],
      "metadata": {
        "id": "wv7JjccCFMbQ"
      }
    },
    {
      "cell_type": "code",
      "source": [
        "import logging\n",
        "\n",
        "# Set up logging configuration\n",
        "logging.basicConfig(\n",
        "    filename='file_handling.log',\n",
        "    level=logging.ERROR,  # Log only errors and above (ERROR, CRITICAL)\n",
        "    format='%(asctime)s - %(levelname)s - %(message)s'\n",
        ")\n",
        "\n",
        "def handle_file(filename):\n",
        "    try:\n",
        "        with open(filename, 'r') as file:\n",
        "            content = file.read()\n",
        "            print(content)\n",
        "    except FileNotFoundError:\n",
        "        logging.error(f\"File '{filename}' not found.\")\n",
        "        print(f\"Error: The file '{filename}' was not found.\")\n",
        "    except PermissionError:\n",
        "        logging.error(f\"Permission denied when trying to access '{filename}'.\")\n",
        "        print(f\"Error: Permission denied for the file '{filename}'.\")\n",
        "    except Exception as e:\n",
        "        logging.error(f\"An unexpected error occurred: {e}\")\n",
        "        print(f\"An unexpected error occurred: {e}\")\n",
        "\n",
        "def main():\n",
        "    filename = 'example.txt'  # Replace with your file path\n",
        "    handle_file(filename)\n",
        "\n",
        "if __name__ == \"__main__\":\n",
        "    main()\n"
      ],
      "metadata": {
        "id": "wJ8hpzjNFXBf"
      },
      "execution_count": null,
      "outputs": []
    }
  ]
}